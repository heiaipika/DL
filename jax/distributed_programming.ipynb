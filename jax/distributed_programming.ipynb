{
 "cells": [
  {
   "cell_type": "code",
   "execution_count": 6,
   "id": "i9k2o1abqze",
   "metadata": {},
   "outputs": [
    {
     "name": "stdout",
     "output_type": "stream",
     "text": [
      "Array devices: {CpuDevice(id=0)}\n",
      "Array sharding: SingleDeviceSharding(device=CpuDevice(id=0), memory_kind=device)\n"
     ]
    },
    {
     "data": {
      "text/html": [
       "<pre style=\"white-space:pre;overflow-x:auto;line-height:normal;font-family:Menlo,'DejaVu Sans Mono',consolas,'Courier New',monospace\">┌────────────────────────────────────────────────┐\n",
       "│                                                │\n",
       "│                                                │\n",
       "│                                                │\n",
       "│                                                │\n",
       "│                     CPU <span style=\"color: #008080; text-decoration-color: #008080; font-weight: bold\">0</span>                      │\n",
       "│                                                │\n",
       "│                                                │\n",
       "│                                                │\n",
       "│                                                │\n",
       "└────────────────────────────────────────────────┘\n",
       "</pre>\n"
      ],
      "text/plain": [
       "┌────────────────────────────────────────────────┐\n",
       "│                                                │\n",
       "│                                                │\n",
       "│                                                │\n",
       "│                                                │\n",
       "│                     CPU \u001b[1;36m0\u001b[0m                      │\n",
       "│                                                │\n",
       "│                                                │\n",
       "│                                                │\n",
       "│                                                │\n",
       "└────────────────────────────────────────────────┘\n"
      ]
     },
     "metadata": {},
     "output_type": "display_data"
    }
   ],
   "source": [
    "import jax\n",
    "import numpy as np\n",
    "import jax.numpy as jnp\n",
    "\n",
    "arr = jnp.arange(32.0).reshape(4, 8)\n",
    "print(\"Array devices:\", arr.devices())\n",
    "print(\"Array sharding:\", arr.sharding)\n",
    "jax.debug.visualize_array_sharding(arr)"
   ]
  },
  {
   "cell_type": "code",
   "execution_count": 7,
   "metadata": {},
   "outputs": [
    {
     "name": "stdout",
     "output_type": "stream",
     "text": [
      "NamedSharding(mesh=Mesh('x': 2, 'y': 4, axis_types=(Auto, Auto)), spec=PartitionSpec('x', 'y'), memory_kind=device)\n",
      "[[ 0.  1.  2.  3.  4.  5.  6.  7.]\n",
      " [ 8.  9. 10. 11. 12. 13. 14. 15.]\n",
      " [16. 17. 18. 19. 20. 21. 22. 23.]\n",
      " [24. 25. 26. 27. 28. 29. 30. 31.]]\n"
     ]
    },
    {
     "data": {
      "text/html": [
       "<pre style=\"white-space:pre;overflow-x:auto;line-height:normal;font-family:Menlo,'DejaVu Sans Mono',consolas,'Courier New',monospace\">┌──────────┬──────────┬──────────┬──────────┐\n",
       "│          │          │          │          │\n",
       "│  CPU <span style=\"color: #008080; text-decoration-color: #008080; font-weight: bold\">0</span>   │  CPU <span style=\"color: #008080; text-decoration-color: #008080; font-weight: bold\">1</span>   │  CPU <span style=\"color: #008080; text-decoration-color: #008080; font-weight: bold\">2</span>   │  CPU <span style=\"color: #008080; text-decoration-color: #008080; font-weight: bold\">3</span>   │\n",
       "│          │          │          │          │\n",
       "│          │          │          │          │\n",
       "├──────────┼──────────┼──────────┼──────────┤\n",
       "│          │          │          │          │\n",
       "│  CPU <span style=\"color: #008080; text-decoration-color: #008080; font-weight: bold\">4</span>   │  CPU <span style=\"color: #008080; text-decoration-color: #008080; font-weight: bold\">5</span>   │  CPU <span style=\"color: #008080; text-decoration-color: #008080; font-weight: bold\">6</span>   │  CPU <span style=\"color: #008080; text-decoration-color: #008080; font-weight: bold\">7</span>   │\n",
       "│          │          │          │          │\n",
       "│          │          │          │          │\n",
       "└──────────┴──────────┴──────────┴──────────┘\n",
       "</pre>\n"
      ],
      "text/plain": [
       "┌──────────┬──────────┬──────────┬──────────┐\n",
       "│          │          │          │          │\n",
       "│  CPU \u001b[1;36m0\u001b[0m   │  CPU \u001b[1;36m1\u001b[0m   │  CPU \u001b[1;36m2\u001b[0m   │  CPU \u001b[1;36m3\u001b[0m   │\n",
       "│          │          │          │          │\n",
       "│          │          │          │          │\n",
       "├──────────┼──────────┼──────────┼──────────┤\n",
       "│          │          │          │          │\n",
       "│  CPU \u001b[1;36m4\u001b[0m   │  CPU \u001b[1;36m5\u001b[0m   │  CPU \u001b[1;36m6\u001b[0m   │  CPU \u001b[1;36m7\u001b[0m   │\n",
       "│          │          │          │          │\n",
       "│          │          │          │          │\n",
       "└──────────┴──────────┴──────────┴──────────┘\n"
      ]
     },
     "metadata": {},
     "output_type": "display_data"
    }
   ],
   "source": [
    "from jax.sharding import PartitionSpec as P\n",
    "\n",
    "mesh = jax.make_mesh((2, 4), ('x', 'y'))\n",
    "sharding = jax.sharding.NamedSharding(mesh, P('x', 'y'))\n",
    "print(sharding)\n",
    "arr_sharded = jax.device_put(arr, sharding)\n",
    "\n",
    "print(arr_sharded)\n",
    "jax.debug.visualize_array_sharding(arr_sharded)"
   ]
  },
  {
   "cell_type": "code",
   "execution_count": 8,
   "metadata": {},
   "outputs": [
    {
     "data": {
      "text/html": [
       "<pre style=\"white-space:pre;overflow-x:auto;line-height:normal;font-family:Menlo,'DejaVu Sans Mono',consolas,'Courier New',monospace\">┌───────┬───────┬───────┬───────┐\n",
       "│CPU <span style=\"color: #008080; text-decoration-color: #008080; font-weight: bold\">0</span>,<span style=\"color: #008080; text-decoration-color: #008080; font-weight: bold\">4</span>│CPU <span style=\"color: #008080; text-decoration-color: #008080; font-weight: bold\">1</span>,<span style=\"color: #008080; text-decoration-color: #008080; font-weight: bold\">5</span>│CPU <span style=\"color: #008080; text-decoration-color: #008080; font-weight: bold\">2</span>,<span style=\"color: #008080; text-decoration-color: #008080; font-weight: bold\">6</span>│CPU <span style=\"color: #008080; text-decoration-color: #008080; font-weight: bold\">3</span>,<span style=\"color: #008080; text-decoration-color: #008080; font-weight: bold\">7</span>│\n",
       "└───────┴───────┴───────┴───────┘\n",
       "</pre>\n"
      ],
      "text/plain": [
       "┌───────┬───────┬───────┬───────┐\n",
       "│CPU \u001b[1;36m0\u001b[0m,\u001b[1;36m4\u001b[0m│CPU \u001b[1;36m1\u001b[0m,\u001b[1;36m5\u001b[0m│CPU \u001b[1;36m2\u001b[0m,\u001b[1;36m6\u001b[0m│CPU \u001b[1;36m3\u001b[0m,\u001b[1;36m7\u001b[0m│\n",
       "└───────┴───────┴───────┴───────┘\n"
      ]
     },
     "metadata": {},
     "output_type": "display_data"
    },
    {
     "name": "stdout",
     "output_type": "stream",
     "text": [
      "[48. 52. 56. 60. 64. 68. 72. 76.]\n"
     ]
    }
   ],
   "source": [
    "// 1. Automatic sharding via jax.jit()\n",
    "@jax.jit\n",
    "def f_contract(x):\n",
    "  return x.sum(axis=0)\n",
    "\n",
    "result = f_contract(arr_sharded)\n",
    "jax.debug.visualize_array_sharding(result)\n",
    "print(result)"
   ]
  },
  {
   "cell_type": "code",
   "execution_count": null,
   "metadata": {},
   "outputs": [],
   "source": [
    "// 2. Explicit Sharding "
   ]
  },
  {
   "cell_type": "code",
   "execution_count": null,
   "metadata": {},
   "outputs": [],
   "source": [
    "// 3. Fully manual sharding using jax.shard_map(): shard_map"
   ]
  }
 ],
 "metadata": {
  "kernelspec": {
   "display_name": "myenv",
   "language": "python",
   "name": "myenv"
  },
  "language_info": {
   "codemirror_mode": {
    "name": "ipython",
    "version": 3
   },
   "file_extension": ".py",
   "mimetype": "text/x-python",
   "name": "python",
   "nbconvert_exporter": "python",
   "pygments_lexer": "ipython3",
   "version": "3.13.7"
  }
 },
 "nbformat": 4,
 "nbformat_minor": 2
}
