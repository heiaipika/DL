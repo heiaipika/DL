{
 "cells": [
  {
   "cell_type": "code",
   "execution_count": null,
   "id": "ae42a103",
   "metadata": {
    "vscode": {
     "languageId": "plaintext"
    }
   },
   "outputs": [
    {
     "name": "stdout",
     "output_type": "stream",
     "text": [
      "1.05 ms ± 7.85 μs per loop (mean ± std. dev. of 7 runs, 1,000 loops each)\n",
      "228 μs ± 1.69 μs per loop (mean ± std. dev. of 7 runs, 1,000 loops each)\n"
     ]
    }
   ],
   "source": [
    "# JIT compiling a function\n",
    "\n",
    "import jax\n",
    "import jax.numpy as jnp\n",
    "\n",
    "def selu(x, alpha=1.67, lambda_=1.05):\n",
    "  return lambda_ * jnp.where(x > 0, x, alpha * jnp.exp(x) - alpha)\n",
    "\n",
    "x = jnp.arange(1000000)\n",
    "%timeit selu(x).block_until_ready()\n",
    "\n",
    "selu_jit = jax.jit(selu)\n",
    "\n",
    "selu_jit(x).block_until_ready()\n",
    "\n",
    "%timeit selu_jit(x).block_until_ready()"
   ]
  },
  {
   "cell_type": "code",
   "execution_count": null,
   "id": "0941e575",
   "metadata": {
    "vscode": {
     "languageId": "plaintext"
    }
   },
   "outputs": [
    {
     "data": {
      "text/plain": [
       "{ \u001b[34;1mlambda \u001b[39;22m; a\u001b[35m:i32[1000000]\u001b[39m b\u001b[35m:f32[1000000]\u001b[39m. \u001b[34;1mlet\n",
       "    \u001b[39;22mc\u001b[35m:i32[1000000]\u001b[39m = add a 1:i32[]\n",
       "    d\u001b[35m:f32[1000000]\u001b[39m = add b 1.0:f32[]\n",
       "    e\u001b[35m:f32[]\u001b[39m = dot_general[\n",
       "      dimension_numbers=(([0], [0]), ([], []))\n",
       "      preferred_element_type=float32\n",
       "    ] c d\n",
       "  \u001b[34;1min \u001b[39;22m(e,) }"
      ]
     },
     "execution_count": 4,
     "metadata": {},
     "output_type": "execute_result"
    }
   ],
   "source": [
    "# jax.make_jaxpr(how to work)\n",
    "\n",
    "from jax import make_jaxpr\n",
    "\n",
    "def f(x, y):\n",
    "  return jnp.dot(x + 1, y + 1)\n",
    "\n",
    "y = jnp.ones(x.shape)\n",
    "make_jaxpr(f)(x, y)"
   ]
  },
  {
   "cell_type": "code",
   "execution_count": null,
   "id": "1c54e23a",
   "metadata": {
    "vscode": {
     "languageId": "plaintext"
    }
   },
   "outputs": [],
   "source": [
    "# Mark variables as static that don't want JIT to trace (no recompilation needed when they change)\n",
    "\n",
    "from functools import partial\n",
    "\n",
    "@partial(jit, static_argnums=(1,))\n",
    "def f(x, neg):\n",
    "  return -x if neg else x\n",
    "\n",
    "f(1, True)"
   ]
  }
 ],
 "metadata": {
  "kernelspec": {
   "display_name": "Python 3 (ipykernel)",
   "language": "python",
   "name": "python3"
  },
  "language_info": {
   "codemirror_mode": {
    "name": "ipython",
    "version": 3
   },
   "file_extension": ".py",
   "mimetype": "text/x-python",
   "name": "python",
   "nbconvert_exporter": "python",
   "pygments_lexer": "ipython3",
   "version": "3.13.7"
  }
 },
 "nbformat": 4,
 "nbformat_minor": 5
}
